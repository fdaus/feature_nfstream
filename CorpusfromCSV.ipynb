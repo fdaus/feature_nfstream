{
 "cells": [
  {
   "cell_type": "markdown",
   "metadata": {},
   "source": [
    "# Corpus Preparation for Nfstream Features"
   ]
  },
  {
   "cell_type": "code",
   "execution_count": 4,
   "metadata": {},
   "outputs": [],
   "source": [
    "import pandas as pd\n",
    "import glob, os\n",
    "import numpy as np\n",
    "pd.set_option('display.max_columns', 500)\n",
    "pd.set_option('display.max_rows', 500)"
   ]
  },
  {
   "cell_type": "code",
   "execution_count": 5,
   "id": "1c052a37",
   "metadata": {},
   "outputs": [],
   "source": [
    "#source = \"/mnt/c/Users/onewa/OneDrive - Universiti Malaya/dataset/iotfsktm/By Devices/Mi Air Purifier/1.pcap\"\n",
    "source = \"/mnt/c/Users/onewa/OneDrive - Universiti Malaya/dataset/Dataset_csv/unsw/nfstream/dataset.csv\""
   ]
  },
  {
   "cell_type": "code",
   "execution_count": 6,
   "id": "f11fcdbc",
   "metadata": {},
   "outputs": [
    {
     "ename": "OSError",
     "evalue": "[Errno 5] Input/output error",
     "output_type": "error",
     "traceback": [
      "\u001b[0;31m---------------------------------------------------------------------------\u001b[0m",
      "\u001b[0;31mOSError\u001b[0m                                   Traceback (most recent call last)",
      "\u001b[1;32m/home/fidoz/nfstream/feature_nfstream/CorpusfromCSV.ipynb Cell 4\u001b[0m in \u001b[0;36m<cell line: 2>\u001b[0;34m()\u001b[0m\n\u001b[1;32m      <a href='vscode-notebook-cell://wsl%2Bubuntu-20.04/home/fidoz/nfstream/feature_nfstream/CorpusfromCSV.ipynb#X11sdnNjb2RlLXJlbW90ZQ%3D%3D?line=0'>1</a>\u001b[0m \u001b[39m#df = NFStreamer(source,statistical_analysis=True,accounting_mode=1,idle_timeout=10,active_timeout=30,).to_pandas()\u001b[39;00m\n\u001b[0;32m----> <a href='vscode-notebook-cell://wsl%2Bubuntu-20.04/home/fidoz/nfstream/feature_nfstream/CorpusfromCSV.ipynb#X11sdnNjb2RlLXJlbW90ZQ%3D%3D?line=1'>2</a>\u001b[0m df \u001b[39m=\u001b[39m pd\u001b[39m.\u001b[39;49mread_csv(source)\n",
      "File \u001b[0;32m~/nfstream/nfstream_env/lib/python3.8/site-packages/pandas/util/_decorators.py:311\u001b[0m, in \u001b[0;36mdeprecate_nonkeyword_arguments.<locals>.decorate.<locals>.wrapper\u001b[0;34m(*args, **kwargs)\u001b[0m\n\u001b[1;32m    305\u001b[0m \u001b[39mif\u001b[39;00m \u001b[39mlen\u001b[39m(args) \u001b[39m>\u001b[39m num_allow_args:\n\u001b[1;32m    306\u001b[0m     warnings\u001b[39m.\u001b[39mwarn(\n\u001b[1;32m    307\u001b[0m         msg\u001b[39m.\u001b[39mformat(arguments\u001b[39m=\u001b[39marguments),\n\u001b[1;32m    308\u001b[0m         \u001b[39mFutureWarning\u001b[39;00m,\n\u001b[1;32m    309\u001b[0m         stacklevel\u001b[39m=\u001b[39mstacklevel,\n\u001b[1;32m    310\u001b[0m     )\n\u001b[0;32m--> 311\u001b[0m \u001b[39mreturn\u001b[39;00m func(\u001b[39m*\u001b[39;49margs, \u001b[39m*\u001b[39;49m\u001b[39m*\u001b[39;49mkwargs)\n",
      "File \u001b[0;32m~/nfstream/nfstream_env/lib/python3.8/site-packages/pandas/io/parsers/readers.py:680\u001b[0m, in \u001b[0;36mread_csv\u001b[0;34m(filepath_or_buffer, sep, delimiter, header, names, index_col, usecols, squeeze, prefix, mangle_dupe_cols, dtype, engine, converters, true_values, false_values, skipinitialspace, skiprows, skipfooter, nrows, na_values, keep_default_na, na_filter, verbose, skip_blank_lines, parse_dates, infer_datetime_format, keep_date_col, date_parser, dayfirst, cache_dates, iterator, chunksize, compression, thousands, decimal, lineterminator, quotechar, quoting, doublequote, escapechar, comment, encoding, encoding_errors, dialect, error_bad_lines, warn_bad_lines, on_bad_lines, delim_whitespace, low_memory, memory_map, float_precision, storage_options)\u001b[0m\n\u001b[1;32m    665\u001b[0m kwds_defaults \u001b[39m=\u001b[39m _refine_defaults_read(\n\u001b[1;32m    666\u001b[0m     dialect,\n\u001b[1;32m    667\u001b[0m     delimiter,\n\u001b[0;32m   (...)\u001b[0m\n\u001b[1;32m    676\u001b[0m     defaults\u001b[39m=\u001b[39m{\u001b[39m\"\u001b[39m\u001b[39mdelimiter\u001b[39m\u001b[39m\"\u001b[39m: \u001b[39m\"\u001b[39m\u001b[39m,\u001b[39m\u001b[39m\"\u001b[39m},\n\u001b[1;32m    677\u001b[0m )\n\u001b[1;32m    678\u001b[0m kwds\u001b[39m.\u001b[39mupdate(kwds_defaults)\n\u001b[0;32m--> 680\u001b[0m \u001b[39mreturn\u001b[39;00m _read(filepath_or_buffer, kwds)\n",
      "File \u001b[0;32m~/nfstream/nfstream_env/lib/python3.8/site-packages/pandas/io/parsers/readers.py:575\u001b[0m, in \u001b[0;36m_read\u001b[0;34m(filepath_or_buffer, kwds)\u001b[0m\n\u001b[1;32m    572\u001b[0m _validate_names(kwds\u001b[39m.\u001b[39mget(\u001b[39m\"\u001b[39m\u001b[39mnames\u001b[39m\u001b[39m\"\u001b[39m, \u001b[39mNone\u001b[39;00m))\n\u001b[1;32m    574\u001b[0m \u001b[39m# Create the parser.\u001b[39;00m\n\u001b[0;32m--> 575\u001b[0m parser \u001b[39m=\u001b[39m TextFileReader(filepath_or_buffer, \u001b[39m*\u001b[39;49m\u001b[39m*\u001b[39;49mkwds)\n\u001b[1;32m    577\u001b[0m \u001b[39mif\u001b[39;00m chunksize \u001b[39mor\u001b[39;00m iterator:\n\u001b[1;32m    578\u001b[0m     \u001b[39mreturn\u001b[39;00m parser\n",
      "File \u001b[0;32m~/nfstream/nfstream_env/lib/python3.8/site-packages/pandas/io/parsers/readers.py:933\u001b[0m, in \u001b[0;36mTextFileReader.__init__\u001b[0;34m(self, f, engine, **kwds)\u001b[0m\n\u001b[1;32m    930\u001b[0m     \u001b[39mself\u001b[39m\u001b[39m.\u001b[39moptions[\u001b[39m\"\u001b[39m\u001b[39mhas_index_names\u001b[39m\u001b[39m\"\u001b[39m] \u001b[39m=\u001b[39m kwds[\u001b[39m\"\u001b[39m\u001b[39mhas_index_names\u001b[39m\u001b[39m\"\u001b[39m]\n\u001b[1;32m    932\u001b[0m \u001b[39mself\u001b[39m\u001b[39m.\u001b[39mhandles: IOHandles \u001b[39m|\u001b[39m \u001b[39mNone\u001b[39;00m \u001b[39m=\u001b[39m \u001b[39mNone\u001b[39;00m\n\u001b[0;32m--> 933\u001b[0m \u001b[39mself\u001b[39m\u001b[39m.\u001b[39m_engine \u001b[39m=\u001b[39m \u001b[39mself\u001b[39;49m\u001b[39m.\u001b[39;49m_make_engine(f, \u001b[39mself\u001b[39;49m\u001b[39m.\u001b[39;49mengine)\n",
      "File \u001b[0;32m~/nfstream/nfstream_env/lib/python3.8/site-packages/pandas/io/parsers/readers.py:1235\u001b[0m, in \u001b[0;36mTextFileReader._make_engine\u001b[0;34m(self, f, engine)\u001b[0m\n\u001b[1;32m   1232\u001b[0m     \u001b[39mraise\u001b[39;00m \u001b[39mValueError\u001b[39;00m(msg)\n\u001b[1;32m   1234\u001b[0m \u001b[39mtry\u001b[39;00m:\n\u001b[0;32m-> 1235\u001b[0m     \u001b[39mreturn\u001b[39;00m mapping[engine](f, \u001b[39m*\u001b[39;49m\u001b[39m*\u001b[39;49m\u001b[39mself\u001b[39;49m\u001b[39m.\u001b[39;49moptions)\n\u001b[1;32m   1236\u001b[0m \u001b[39mexcept\u001b[39;00m \u001b[39mException\u001b[39;00m:\n\u001b[1;32m   1237\u001b[0m     \u001b[39mif\u001b[39;00m \u001b[39mself\u001b[39m\u001b[39m.\u001b[39mhandles \u001b[39mis\u001b[39;00m \u001b[39mnot\u001b[39;00m \u001b[39mNone\u001b[39;00m:\n",
      "File \u001b[0;32m~/nfstream/nfstream_env/lib/python3.8/site-packages/pandas/io/parsers/c_parser_wrapper.py:75\u001b[0m, in \u001b[0;36mCParserWrapper.__init__\u001b[0;34m(self, src, **kwds)\u001b[0m\n\u001b[1;32m     72\u001b[0m     kwds\u001b[39m.\u001b[39mpop(key, \u001b[39mNone\u001b[39;00m)\n\u001b[1;32m     74\u001b[0m kwds[\u001b[39m\"\u001b[39m\u001b[39mdtype\u001b[39m\u001b[39m\"\u001b[39m] \u001b[39m=\u001b[39m ensure_dtype_objs(kwds\u001b[39m.\u001b[39mget(\u001b[39m\"\u001b[39m\u001b[39mdtype\u001b[39m\u001b[39m\"\u001b[39m, \u001b[39mNone\u001b[39;00m))\n\u001b[0;32m---> 75\u001b[0m \u001b[39mself\u001b[39m\u001b[39m.\u001b[39m_reader \u001b[39m=\u001b[39m parsers\u001b[39m.\u001b[39;49mTextReader(src, \u001b[39m*\u001b[39;49m\u001b[39m*\u001b[39;49mkwds)\n\u001b[1;32m     77\u001b[0m \u001b[39mself\u001b[39m\u001b[39m.\u001b[39munnamed_cols \u001b[39m=\u001b[39m \u001b[39mself\u001b[39m\u001b[39m.\u001b[39m_reader\u001b[39m.\u001b[39munnamed_cols\n\u001b[1;32m     79\u001b[0m \u001b[39m# error: Cannot determine type of 'names'\u001b[39;00m\n",
      "File \u001b[0;32m~/nfstream/nfstream_env/lib/python3.8/site-packages/pandas/_libs/parsers.pyx:544\u001b[0m, in \u001b[0;36mpandas._libs.parsers.TextReader.__cinit__\u001b[0;34m()\u001b[0m\n",
      "File \u001b[0;32m~/nfstream/nfstream_env/lib/python3.8/site-packages/pandas/_libs/parsers.pyx:633\u001b[0m, in \u001b[0;36mpandas._libs.parsers.TextReader._get_header\u001b[0;34m()\u001b[0m\n",
      "File \u001b[0;32m~/nfstream/nfstream_env/lib/python3.8/site-packages/pandas/_libs/parsers.pyx:847\u001b[0m, in \u001b[0;36mpandas._libs.parsers.TextReader._tokenize_rows\u001b[0;34m()\u001b[0m\n",
      "File \u001b[0;32m~/nfstream/nfstream_env/lib/python3.8/site-packages/pandas/_libs/parsers.pyx:1952\u001b[0m, in \u001b[0;36mpandas._libs.parsers.raise_parser_error\u001b[0;34m()\u001b[0m\n",
      "\u001b[0;31mOSError\u001b[0m: [Errno 5] Input/output error"
     ]
    }
   ],
   "source": [
    "#df = NFStreamer(source,statistical_analysis=True,accounting_mode=1,idle_timeout=10,active_timeout=30,).to_pandas()\n",
    "df = pd.read_csv(source)"
   ]
  },
  {
   "cell_type": "code",
   "execution_count": null,
   "id": "ea2afa3e",
   "metadata": {},
   "outputs": [
    {
     "ename": "NameError",
     "evalue": "name 'df' is not defined",
     "output_type": "error",
     "traceback": [
      "\u001b[0;31m---------------------------------------------------------------------------\u001b[0m",
      "\u001b[0;31mNameError\u001b[0m                                 Traceback (most recent call last)",
      "\u001b[1;32m/home/fidoz/nfstream/feature_nfstream/CorpusfromCSV.ipynb Cell 4\u001b[0m in \u001b[0;36m<cell line: 1>\u001b[0;34m()\u001b[0m\n\u001b[0;32m----> <a href='vscode-notebook-cell://wsl%2Bubuntu-20.04/home/fidoz/nfstream/feature_nfstream/CorpusfromCSV.ipynb#W3sdnNjb2RlLXJlbW90ZQ%3D%3D?line=0'>1</a>\u001b[0m df\u001b[39m.\u001b[39minfo()\n",
      "\u001b[0;31mNameError\u001b[0m: name 'df' is not defined"
     ]
    }
   ],
   "source": [
    "df.info()"
   ]
  },
  {
   "cell_type": "code",
   "execution_count": null,
   "id": "413cccc4",
   "metadata": {},
   "outputs": [],
   "source": [
    "df1=df.drop(columns=[\"id\",\"expiration_id\",\"src_ip\",\"src_mac\",\"src_oui\",\"dst_ip\",\"dst_mac\",\"dst_oui\",\"application_is_guessed\",\"bidirectional_first_seen_ms\",\"bidirectional_last_seen_ms\",\"src2dst_first_seen_ms\",\"src2dst_last_seen_ms\",\"dst2src_first_seen_ms\",\"dst2src_last_seen_ms\",\"device\",\"label\"])"
   ]
  },
  {
   "cell_type": "code",
   "execution_count": null,
   "id": "b3676f61",
   "metadata": {},
   "outputs": [
    {
     "name": "stdout",
     "output_type": "stream",
     "text": [
      "<class 'pandas.core.frame.DataFrame'>\n",
      "RangeIndex: 212 entries, 0 to 211\n",
      "Data columns (total 71 columns):\n",
      " #   Column                        Non-Null Count  Dtype  \n",
      "---  ------                        --------------  -----  \n",
      " 0   src_port                      212 non-null    int64  \n",
      " 1   dst_port                      212 non-null    int64  \n",
      " 2   protocol                      212 non-null    int64  \n",
      " 3   ip_version                    212 non-null    int64  \n",
      " 4   vlan_id                       212 non-null    int64  \n",
      " 5   tunnel_id                     212 non-null    int64  \n",
      " 6   bidirectional_duration_ms     212 non-null    int64  \n",
      " 7   bidirectional_packets         212 non-null    int64  \n",
      " 8   bidirectional_bytes           212 non-null    int64  \n",
      " 9   src2dst_duration_ms           212 non-null    int64  \n",
      " 10  src2dst_packets               212 non-null    int64  \n",
      " 11  src2dst_bytes                 212 non-null    int64  \n",
      " 12  dst2src_duration_ms           212 non-null    int64  \n",
      " 13  dst2src_packets               212 non-null    int64  \n",
      " 14  dst2src_bytes                 212 non-null    int64  \n",
      " 15  bidirectional_min_ps          212 non-null    int64  \n",
      " 16  bidirectional_mean_ps         212 non-null    float64\n",
      " 17  bidirectional_stddev_ps       212 non-null    float64\n",
      " 18  bidirectional_max_ps          212 non-null    int64  \n",
      " 19  src2dst_min_ps                212 non-null    int64  \n",
      " 20  src2dst_mean_ps               212 non-null    float64\n",
      " 21  src2dst_stddev_ps             212 non-null    float64\n",
      " 22  src2dst_max_ps                212 non-null    int64  \n",
      " 23  dst2src_min_ps                212 non-null    int64  \n",
      " 24  dst2src_mean_ps               212 non-null    float64\n",
      " 25  dst2src_stddev_ps             212 non-null    float64\n",
      " 26  dst2src_max_ps                212 non-null    int64  \n",
      " 27  bidirectional_min_piat_ms     212 non-null    int64  \n",
      " 28  bidirectional_mean_piat_ms    212 non-null    float64\n",
      " 29  bidirectional_stddev_piat_ms  212 non-null    float64\n",
      " 30  bidirectional_max_piat_ms     212 non-null    int64  \n",
      " 31  src2dst_min_piat_ms           212 non-null    int64  \n",
      " 32  src2dst_mean_piat_ms          212 non-null    float64\n",
      " 33  src2dst_stddev_piat_ms        212 non-null    float64\n",
      " 34  src2dst_max_piat_ms           212 non-null    int64  \n",
      " 35  dst2src_min_piat_ms           212 non-null    int64  \n",
      " 36  dst2src_mean_piat_ms          212 non-null    float64\n",
      " 37  dst2src_stddev_piat_ms        212 non-null    float64\n",
      " 38  dst2src_max_piat_ms           212 non-null    int64  \n",
      " 39  bidirectional_syn_packets     212 non-null    int64  \n",
      " 40  bidirectional_cwr_packets     212 non-null    int64  \n",
      " 41  bidirectional_ece_packets     212 non-null    int64  \n",
      " 42  bidirectional_urg_packets     212 non-null    int64  \n",
      " 43  bidirectional_ack_packets     212 non-null    int64  \n",
      " 44  bidirectional_psh_packets     212 non-null    int64  \n",
      " 45  bidirectional_rst_packets     212 non-null    int64  \n",
      " 46  bidirectional_fin_packets     212 non-null    int64  \n",
      " 47  src2dst_syn_packets           212 non-null    int64  \n",
      " 48  src2dst_cwr_packets           212 non-null    int64  \n",
      " 49  src2dst_ece_packets           212 non-null    int64  \n",
      " 50  src2dst_urg_packets           212 non-null    int64  \n",
      " 51  src2dst_ack_packets           212 non-null    int64  \n",
      " 52  src2dst_psh_packets           212 non-null    int64  \n",
      " 53  src2dst_rst_packets           212 non-null    int64  \n",
      " 54  src2dst_fin_packets           212 non-null    int64  \n",
      " 55  dst2src_syn_packets           212 non-null    int64  \n",
      " 56  dst2src_cwr_packets           212 non-null    int64  \n",
      " 57  dst2src_ece_packets           212 non-null    int64  \n",
      " 58  dst2src_urg_packets           212 non-null    int64  \n",
      " 59  dst2src_ack_packets           212 non-null    int64  \n",
      " 60  dst2src_psh_packets           212 non-null    int64  \n",
      " 61  dst2src_rst_packets           212 non-null    int64  \n",
      " 62  dst2src_fin_packets           212 non-null    int64  \n",
      " 63  application_name              212 non-null    object \n",
      " 64  application_category_name     212 non-null    object \n",
      " 65  application_confidence        212 non-null    int64  \n",
      " 66  requested_server_name         10 non-null     object \n",
      " 67  client_fingerprint            0 non-null      float64\n",
      " 68  server_fingerprint            0 non-null      float64\n",
      " 69  user_agent                    0 non-null      float64\n",
      " 70  content_type                  0 non-null      float64\n",
      "dtypes: float64(16), int64(52), object(3)\n",
      "memory usage: 117.7+ KB\n"
     ]
    }
   ],
   "source": [
    "\n",
    "df1.head()\n",
    "df1.info()"
   ]
  },
  {
   "cell_type": "code",
   "execution_count": null,
   "id": "169c934a",
   "metadata": {},
   "outputs": [
    {
     "name": "stdout",
     "output_type": "stream",
     "text": [
      "<class 'pandas.core.frame.DataFrame'>\n",
      "RangeIndex: 212 entries, 0 to 211\n",
      "Data columns (total 71 columns):\n",
      " #   Column                        Non-Null Count  Dtype \n",
      "---  ------                        --------------  ----- \n",
      " 0   src_port                      212 non-null    object\n",
      " 1   dst_port                      212 non-null    object\n",
      " 2   protocol                      212 non-null    object\n",
      " 3   ip_version                    212 non-null    object\n",
      " 4   vlan_id                       212 non-null    object\n",
      " 5   tunnel_id                     212 non-null    object\n",
      " 6   bidirectional_duration_ms     212 non-null    object\n",
      " 7   bidirectional_packets         212 non-null    object\n",
      " 8   bidirectional_bytes           212 non-null    object\n",
      " 9   src2dst_duration_ms           212 non-null    object\n",
      " 10  src2dst_packets               212 non-null    object\n",
      " 11  src2dst_bytes                 212 non-null    object\n",
      " 12  dst2src_duration_ms           212 non-null    object\n",
      " 13  dst2src_packets               212 non-null    object\n",
      " 14  dst2src_bytes                 212 non-null    object\n",
      " 15  bidirectional_min_ps          212 non-null    object\n",
      " 16  bidirectional_mean_ps         212 non-null    object\n",
      " 17  bidirectional_stddev_ps       212 non-null    object\n",
      " 18  bidirectional_max_ps          212 non-null    object\n",
      " 19  src2dst_min_ps                212 non-null    object\n",
      " 20  src2dst_mean_ps               212 non-null    object\n",
      " 21  src2dst_stddev_ps             212 non-null    object\n",
      " 22  src2dst_max_ps                212 non-null    object\n",
      " 23  dst2src_min_ps                212 non-null    object\n",
      " 24  dst2src_mean_ps               212 non-null    object\n",
      " 25  dst2src_stddev_ps             212 non-null    object\n",
      " 26  dst2src_max_ps                212 non-null    object\n",
      " 27  bidirectional_min_piat_ms     212 non-null    object\n",
      " 28  bidirectional_mean_piat_ms    212 non-null    object\n",
      " 29  bidirectional_stddev_piat_ms  212 non-null    object\n",
      " 30  bidirectional_max_piat_ms     212 non-null    object\n",
      " 31  src2dst_min_piat_ms           212 non-null    object\n",
      " 32  src2dst_mean_piat_ms          212 non-null    object\n",
      " 33  src2dst_stddev_piat_ms        212 non-null    object\n",
      " 34  src2dst_max_piat_ms           212 non-null    object\n",
      " 35  dst2src_min_piat_ms           212 non-null    object\n",
      " 36  dst2src_mean_piat_ms          212 non-null    object\n",
      " 37  dst2src_stddev_piat_ms        212 non-null    object\n",
      " 38  dst2src_max_piat_ms           212 non-null    object\n",
      " 39  bidirectional_syn_packets     212 non-null    object\n",
      " 40  bidirectional_cwr_packets     212 non-null    object\n",
      " 41  bidirectional_ece_packets     212 non-null    object\n",
      " 42  bidirectional_urg_packets     212 non-null    object\n",
      " 43  bidirectional_ack_packets     212 non-null    object\n",
      " 44  bidirectional_psh_packets     212 non-null    object\n",
      " 45  bidirectional_rst_packets     212 non-null    object\n",
      " 46  bidirectional_fin_packets     212 non-null    object\n",
      " 47  src2dst_syn_packets           212 non-null    object\n",
      " 48  src2dst_cwr_packets           212 non-null    object\n",
      " 49  src2dst_ece_packets           212 non-null    object\n",
      " 50  src2dst_urg_packets           212 non-null    object\n",
      " 51  src2dst_ack_packets           212 non-null    object\n",
      " 52  src2dst_psh_packets           212 non-null    object\n",
      " 53  src2dst_rst_packets           212 non-null    object\n",
      " 54  src2dst_fin_packets           212 non-null    object\n",
      " 55  dst2src_syn_packets           212 non-null    object\n",
      " 56  dst2src_cwr_packets           212 non-null    object\n",
      " 57  dst2src_ece_packets           212 non-null    object\n",
      " 58  dst2src_urg_packets           212 non-null    object\n",
      " 59  dst2src_ack_packets           212 non-null    object\n",
      " 60  dst2src_psh_packets           212 non-null    object\n",
      " 61  dst2src_rst_packets           212 non-null    object\n",
      " 62  dst2src_fin_packets           212 non-null    object\n",
      " 63  application_name              212 non-null    object\n",
      " 64  application_category_name     212 non-null    object\n",
      " 65  application_confidence        212 non-null    object\n",
      " 66  requested_server_name         212 non-null    object\n",
      " 67  client_fingerprint            212 non-null    object\n",
      " 68  server_fingerprint            212 non-null    object\n",
      " 69  user_agent                    212 non-null    object\n",
      " 70  content_type                  212 non-null    object\n",
      "dtypes: object(71)\n",
      "memory usage: 117.7+ KB\n"
     ]
    }
   ],
   "source": [
    "\n",
    "df1=df1.astype(str).apply(lambda x : x.name+':'+x)\n",
    "df1.head(10)\n",
    "df1.info()"
   ]
  },
  {
   "cell_type": "code",
   "execution_count": null,
   "id": "4736bae2",
   "metadata": {},
   "outputs": [],
   "source": [
    "df1.to_csv(\"unsw_corpus.csv\", index=False, sep=' ',header=False)"
   ]
  }
 ],
 "metadata": {
  "kernelspec": {
   "display_name": "Python 3.8.10 ('nfstream_env': venv)",
   "language": "python",
   "name": "python3"
  },
  "language_info": {
   "codemirror_mode": {
    "name": "ipython",
    "version": 3
   },
   "file_extension": ".py",
   "mimetype": "text/x-python",
   "name": "python",
   "nbconvert_exporter": "python",
   "pygments_lexer": "ipython3",
   "version": "3.8.10"
  },
  "orig_nbformat": 4,
  "vscode": {
   "interpreter": {
    "hash": "fd98a7b3240b05fffc7f28737e4f427cb1beb3dc70e49fe30c39efe6a3c6e8b9"
   }
  }
 },
 "nbformat": 4,
 "nbformat_minor": 2
}
